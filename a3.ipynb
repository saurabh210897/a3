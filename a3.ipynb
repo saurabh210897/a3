{
 "cells": [
  {
   "cell_type": "code",
   "execution_count": 1,
   "id": "15a8f996-7707-4a6a-be47-d7c8ff9f2cde",
   "metadata": {},
   "outputs": [],
   "source": [
    "#Q1. Create a python program to sort the given list of tuples based on integer value using a \n",
    "#lambda function\n",
    "#[('Sachin Tendulkar', 34357), ('Ricky Ponting', 27483), ('Jack Kallis', 25534), ('Virat Kohli', 24936)]"
   ]
  },
  {
   "cell_type": "code",
   "execution_count": 3,
   "id": "d2b9ddee-f598-4fee-a10e-ae91ae88252e",
   "metadata": {},
   "outputs": [
    {
     "name": "stdout",
     "output_type": "stream",
     "text": [
      "[('Sachin Tendulkar', 34357), ('Ricky Ponting', 27483), ('Jack Kallis', 25534), ('Virat Kohli', 24936)]\n"
     ]
    }
   ],
   "source": [
    "# List of tuples\n",
    "players = [('Sachin Tendulkar', 34357), ('Ricky Ponting', 27483), ('Jack Kallis', 25534), ('Virat Kohli', 24936)]\n",
    "\n",
    "# Sort the list based on the integer value using a lambda function\n",
    "players.sort(key=lambda x: x[1], reverse=True)\n",
    "\n",
    "# Print the sorted list\n",
    "print(players)"
   ]
  },
  {
   "cell_type": "code",
   "execution_count": 20,
   "id": "7a053eff-cb2b-4916-b82c-d4e74945dd33",
   "metadata": {},
   "outputs": [],
   "source": [
    "# Q2. Write a Python Program to find the squares of all the numbers in the given list of integers using \n",
    "# lambda and map functions.\n",
    "# [1, 2, 3, 4, 5, 6, 7, 8, 9, 10]"
   ]
  },
  {
   "cell_type": "code",
   "execution_count": 21,
   "id": "336b8bd1-fc21-4c07-9304-9ea6581ff7c0",
   "metadata": {},
   "outputs": [],
   "source": [
    "# lambda function & map function\n",
    "l = [1, 2, 3, 4, 5, 6, 7, 8, 9, 10]"
   ]
  },
  {
   "cell_type": "code",
   "execution_count": 22,
   "id": "eef37d91-9d5e-4150-a0b1-80561c70ecdf",
   "metadata": {},
   "outputs": [],
   "source": [
    "square = list(map(lambda x : x**2 , l))"
   ]
  },
  {
   "cell_type": "code",
   "execution_count": 23,
   "id": "0ed091da-b872-45d4-bc4f-026d6e52e802",
   "metadata": {},
   "outputs": [
    {
     "name": "stdout",
     "output_type": "stream",
     "text": [
      "[1, 4, 9, 16, 25, 36, 49, 64, 81, 100]\n"
     ]
    }
   ],
   "source": [
    "print(square)"
   ]
  },
  {
   "cell_type": "code",
   "execution_count": 25,
   "id": "e141ae49-f2d5-4714-9a54-81c655450296",
   "metadata": {},
   "outputs": [],
   "source": [
    "# Q3. Write a python program to convert the given list of integers into a tuple of strings. Use map and \n",
    "# lambda functions\n",
    "# Given String: [1, 2, 3, 4, 5, 6, 7, 8, 9, 10]\n",
    "# Expected output: ('1', '2', '3', '4', '5', '6', '7', '8', '9', '10')"
   ]
  },
  {
   "cell_type": "code",
   "execution_count": 26,
   "id": "69b41f3b-da34-4ef5-9360-de6018bebfd3",
   "metadata": {},
   "outputs": [],
   "source": [
    "l1 =  [1, 2, 3, 4, 5, 6, 7, 8, 9, 10]"
   ]
  },
  {
   "cell_type": "code",
   "execution_count": 33,
   "id": "ce75d684-b331-41fb-be33-dc26fca97838",
   "metadata": {},
   "outputs": [],
   "source": [
    "toup = tuple(map(lambda x : str(x) , l))"
   ]
  },
  {
   "cell_type": "code",
   "execution_count": 34,
   "id": "7019b7f3-6726-40c5-ad89-eae54ac01f2e",
   "metadata": {},
   "outputs": [
    {
     "name": "stdout",
     "output_type": "stream",
     "text": [
      "('1', '2', '3', '4', '5', '6', '7', '8', '9', '10')\n"
     ]
    }
   ],
   "source": [
    "print(toup)"
   ]
  },
  {
   "cell_type": "code",
   "execution_count": 42,
   "id": "8f05bd3e-30ba-4a66-88f2-ecc1fce9b304",
   "metadata": {},
   "outputs": [],
   "source": [
    "#Q4.  Write a python program using reduce function to compute the product of a list containing numbers \n",
    "# from 1 to 25."
   ]
  },
  {
   "cell_type": "code",
   "execution_count": 43,
   "id": "3e5a4c93-4162-4747-a552-c27c9da55705",
   "metadata": {},
   "outputs": [],
   "source": [
    "from functools import  reduce"
   ]
  },
  {
   "cell_type": "code",
   "execution_count": 44,
   "id": "478c83e0-11bc-44a7-8f22-74936eed0449",
   "metadata": {},
   "outputs": [
    {
     "name": "stdout",
     "output_type": "stream",
     "text": [
      "15511210043330985984000000\n"
     ]
    }
   ],
   "source": [
    "from functools import reduce\n",
    "\n",
    "# List of numbers from 1 to 25\n",
    "numbers = list(range(1, 26))\n",
    "\n",
    "# Compute the product of all the numbers using reduce() function\n",
    "product = reduce(lambda x, y: x*y, numbers)\n",
    "\n",
    "# Print the product of all the numbers\n",
    "print(product)"
   ]
  },
  {
   "cell_type": "code",
   "execution_count": 46,
   "id": "09274b67-d43a-44a9-a91e-f7aa14f78cba",
   "metadata": {},
   "outputs": [],
   "source": [
    "#Q5. Write a python program to filter the numbers in a given list that are divisible by 2 and 3 using the \n",
    "# filter function.\n",
    "# [2, 3, 6, 9, 27, 60, 90, 120, 55, 46]"
   ]
  },
  {
   "cell_type": "code",
   "execution_count": 48,
   "id": "ef23c1ff-807e-4f1e-b765-b28a41f31a15",
   "metadata": {},
   "outputs": [],
   "source": [
    "l3 = [2, 3, 6, 9, 27, 60, 90, 120, 55, 46]"
   ]
  },
  {
   "cell_type": "code",
   "execution_count": 51,
   "id": "2e9aee23-0190-4ad4-92bb-b04c53fbd896",
   "metadata": {},
   "outputs": [],
   "source": [
    "filters = list(filter(lambda x : (x%2  == 0 and x%3 == 0) , l3))\n"
   ]
  },
  {
   "cell_type": "code",
   "execution_count": 52,
   "id": "a5f4428c-9a98-4ba3-b4b5-0569ac3ebd6a",
   "metadata": {},
   "outputs": [
    {
     "name": "stdout",
     "output_type": "stream",
     "text": [
      "[6, 60, 90, 120]\n"
     ]
    }
   ],
   "source": [
    "print(filters)"
   ]
  },
  {
   "cell_type": "code",
   "execution_count": 53,
   "id": "36534400-1cf1-4234-9c37-54cbbaba15bf",
   "metadata": {},
   "outputs": [],
   "source": [
    "# Q6. Write a python program to find palindromes in the given list of strings using lambda and filter \n",
    "# function.\n",
    "# ['python', 'php', 'aba', 'radar', 'level']"
   ]
  },
  {
   "cell_type": "code",
   "execution_count": 57,
   "id": "4a35db92-438b-4233-b83a-577e8fe07614",
   "metadata": {},
   "outputs": [
    {
     "name": "stdout",
     "output_type": "stream",
     "text": [
      "['php', 'aba', 'radar', 'level']\n"
     ]
    }
   ],
   "source": [
    "strings =  ['python', 'php', 'aba', 'radar', 'level']\n",
    "polindromes = list(filter(lambda x : (x == x[::-1]) , strings))\n",
    "print(polindromes)"
   ]
  },
  {
   "cell_type": "code",
   "execution_count": null,
   "id": "c60212ab-54c8-4237-9a34-e186a79eac49",
   "metadata": {},
   "outputs": [],
   "source": []
  }
 ],
 "metadata": {
  "kernelspec": {
   "display_name": "Python 3 (ipykernel)",
   "language": "python",
   "name": "python3"
  },
  "language_info": {
   "codemirror_mode": {
    "name": "ipython",
    "version": 3
   },
   "file_extension": ".py",
   "mimetype": "text/x-python",
   "name": "python",
   "nbconvert_exporter": "python",
   "pygments_lexer": "ipython3",
   "version": "3.10.8"
  }
 },
 "nbformat": 4,
 "nbformat_minor": 5
}
